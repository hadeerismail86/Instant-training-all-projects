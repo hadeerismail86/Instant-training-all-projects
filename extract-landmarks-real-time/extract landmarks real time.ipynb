{
 "cells": [
  {
   "cell_type": "code",
   "execution_count": 1,
   "id": "e3526c93-e059-45bb-9704-481020308afb",
   "metadata": {},
   "outputs": [
    {
     "name": "stdout",
     "output_type": "stream",
     "text": [
      "Collecting mediapipe\n",
      "  Downloading mediapipe-0.10.11-cp39-cp39-win_amd64.whl (50.8 MB)\n",
      "Requirement already satisfied: opencv-python in c:\\users\\hadir\\anaconda3\\lib\\site-packages (4.8.1.78)\n",
      "Collecting flatbuffers>=2.0\n",
      "  Downloading flatbuffers-24.3.25-py2.py3-none-any.whl (26 kB)\n",
      "Collecting protobuf<4,>=3.11\n",
      "  Downloading protobuf-3.20.3-cp39-cp39-win_amd64.whl (904 kB)\n",
      "Collecting opencv-contrib-python\n",
      "  Downloading opencv_contrib_python-4.9.0.80-cp37-abi3-win_amd64.whl (45.3 MB)\n",
      "Collecting jax\n",
      "  Downloading jax-0.4.26-py3-none-any.whl (1.9 MB)\n",
      "Requirement already satisfied: matplotlib in c:\\users\\hadir\\anaconda3\\lib\\site-packages (from mediapipe) (3.4.3)\n",
      "Requirement already satisfied: numpy in c:\\users\\hadir\\anaconda3\\lib\\site-packages (from mediapipe) (1.22.4)\n",
      "Collecting sounddevice>=0.4.4\n",
      "  Downloading sounddevice-0.4.6-py3-none-win_amd64.whl (199 kB)\n",
      "Collecting absl-py\n",
      "  Downloading absl_py-2.1.0-py3-none-any.whl (133 kB)\n",
      "Requirement already satisfied: attrs>=19.1.0 in c:\\users\\hadir\\anaconda3\\lib\\site-packages (from mediapipe) (21.2.0)\n",
      "Requirement already satisfied: CFFI>=1.0 in c:\\users\\hadir\\anaconda3\\lib\\site-packages (from sounddevice>=0.4.4->mediapipe) (1.14.6)\n",
      "Requirement already satisfied: pycparser in c:\\users\\hadir\\anaconda3\\lib\\site-packages (from CFFI>=1.0->sounddevice>=0.4.4->mediapipe) (2.20)\n",
      "Collecting ml-dtypes>=0.2.0\n",
      "  Downloading ml_dtypes-0.4.0-cp39-cp39-win_amd64.whl (126 kB)\n",
      "Requirement already satisfied: importlib-metadata>=4.6 in c:\\users\\hadir\\anaconda3\\lib\\site-packages (from jax->mediapipe) (6.7.0)\n",
      "Collecting scipy>=1.9\n",
      "  Downloading scipy-1.13.0-cp39-cp39-win_amd64.whl (46.2 MB)\n",
      "Collecting opt-einsum\n",
      "  Downloading opt_einsum-3.3.0-py3-none-any.whl (65 kB)\n",
      "Requirement already satisfied: zipp>=0.5 in c:\\users\\hadir\\anaconda3\\lib\\site-packages (from importlib-metadata>=4.6->jax->mediapipe) (3.6.0)\n",
      "Requirement already satisfied: pyparsing>=2.2.1 in c:\\users\\hadir\\anaconda3\\lib\\site-packages (from matplotlib->mediapipe) (3.0.4)\n",
      "Requirement already satisfied: python-dateutil>=2.7 in c:\\users\\hadir\\anaconda3\\lib\\site-packages (from matplotlib->mediapipe) (2.8.2)\n",
      "Requirement already satisfied: pillow>=6.2.0 in c:\\users\\hadir\\anaconda3\\lib\\site-packages (from matplotlib->mediapipe) (8.4.0)\n",
      "Requirement already satisfied: cycler>=0.10 in c:\\users\\hadir\\anaconda3\\lib\\site-packages (from matplotlib->mediapipe) (0.10.0)\n",
      "Requirement already satisfied: kiwisolver>=1.0.1 in c:\\users\\hadir\\anaconda3\\lib\\site-packages (from matplotlib->mediapipe) (1.3.1)\n",
      "Requirement already satisfied: six in c:\\users\\hadir\\anaconda3\\lib\\site-packages (from cycler>=0.10->matplotlib->mediapipe) (1.16.0)\n",
      "Installing collected packages: scipy, opt-einsum, ml-dtypes, sounddevice, protobuf, opencv-contrib-python, jax, flatbuffers, absl-py, mediapipe\n",
      "  Attempting uninstall: scipy\n",
      "    Found existing installation: scipy 1.7.1\n",
      "    Uninstalling scipy-1.7.1:\n",
      "      Successfully uninstalled scipy-1.7.1\n",
      "Successfully installed absl-py-2.1.0 flatbuffers-24.3.25 jax-0.4.26 mediapipe-0.10.11 ml-dtypes-0.4.0 opencv-contrib-python-4.9.0.80 opt-einsum-3.3.0 protobuf-3.20.3 scipy-1.13.0 sounddevice-0.4.6\n",
      "Note: you may need to restart the kernel to use updated packages.\n"
     ]
    }
   ],
   "source": [
    "pip install mediapipe opencv-python\n"
   ]
  },
  {
   "cell_type": "code",
   "execution_count": null,
   "id": "5c19f2c4-ef3e-40c9-bbd7-c88e83d4d580",
   "metadata": {},
   "outputs": [],
   "source": [
    "import cv2\n",
    "import mediapipe as mp\n",
    "\n",
    "# Initialize MediaPipe Hands\n",
    "mp_hands = mp.solutions.hands\n",
    "hands = mp_hands.Hands()\n",
    "\n",
    "# Set up video capture\n",
    "cap = cv2.VideoCapture(0)  # 0 for webcam, or provide the video file path\n",
    "\n",
    "while True:\n",
    "    ret, frame = cap.read()\n",
    "    if not ret:\n",
    "        break\n",
    "\n",
    "    # Convert the image to RGB and process with MediaPipe Hands\n",
    "    rgb_frame = cv2.cvtColor(frame, cv2.COLOR_BGR2RGB)\n",
    "    results = hands.process(rgb_frame)\n",
    "\n",
    "    if results.multi_hand_landmarks:\n",
    "        for hand_landmarks in results.multi_hand_landmarks:\n",
    "            # Extract landmarks for each hand\n",
    "            for landmark in hand_landmarks.landmark:\n",
    "                # You can access specific landmarks by their index\n",
    "                # For example, landmark 8 is the tip of the index finger\n",
    "                x = int(landmark.x * frame.shape[1])\n",
    "                y = int(landmark.y * frame.shape[0])\n",
    "                cv2.circle(frame, (x, y), 5, (0, 255, 0), -1)\n",
    "\n",
    "            # Check for an open hand wave gesture\n",
    "            # For simplicity, let's assume the open hand wave is detected when the index finger is extended (landmark 8)\n",
    "            index_tip = hand_landmarks.landmark[mp_hands.HandLandmark.INDEX_FINGER_TIP]\n",
    "            thumb_tip = hand_landmarks.landmark[mp_hands.HandLandmark.THUMB_TIP]\n",
    "            if index_tip.y < thumb_tip.y:  # Index finger is above thumb (open hand wave)\n",
    "                cv2.putText(frame, 'Open Hand Wave Detected', (50, 50), cv2.FONT_HERSHEY_SIMPLEX, 1, (0, 255, 0), 2)\n",
    "\n",
    "    cv2.imshow(\"Frame\", frame)\n",
    "\n",
    "    # Check for 'q' key press to close the camera\n",
    "    if cv2.waitKey(1) & 0xFF == ord(\"q\"):\n",
    "        break\n",
    "\n",
    "# Release the camera and close OpenCV windows\n",
    "cap.release()\n",
    "cv2.destroyAllWindows()\n"
   ]
  },
  {
   "cell_type": "code",
   "execution_count": null,
   "id": "2e158798-a000-423c-a25a-3884499d5bd0",
   "metadata": {},
   "outputs": [],
   "source": []
  }
 ],
 "metadata": {
  "kernelspec": {
   "display_name": "Python 3 (ipykernel)",
   "language": "python",
   "name": "python3"
  },
  "language_info": {
   "codemirror_mode": {
    "name": "ipython",
    "version": 3
   },
   "file_extension": ".py",
   "mimetype": "text/x-python",
   "name": "python",
   "nbconvert_exporter": "python",
   "pygments_lexer": "ipython3",
   "version": "3.9.7"
  }
 },
 "nbformat": 4,
 "nbformat_minor": 5
}
